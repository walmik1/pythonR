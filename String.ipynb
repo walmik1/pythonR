{
 "cells": [
  {
   "cell_type": "markdown",
   "id": "d1b04120",
   "metadata": {},
   "source": [
    "###### String: \"It is a collection of alpha numeric or special characters surrounded by '' or \"\" \"\n",
    "    Note: For a multiline string use ''' ''' or \"\"\" \"\"\""
   ]
  },
  {
   "cell_type": "code",
   "execution_count": 1,
   "id": "d8c1da12",
   "metadata": {},
   "outputs": [],
   "source": [
    "str_1 = 'python and data science'"
   ]
  },
  {
   "cell_type": "code",
   "execution_count": 2,
   "id": "791f0660",
   "metadata": {},
   "outputs": [
    {
     "data": {
      "text/plain": [
       "str"
      ]
     },
     "execution_count": 2,
     "metadata": {},
     "output_type": "execute_result"
    }
   ],
   "source": [
    "type(str_1)"
   ]
  },
  {
   "cell_type": "code",
   "execution_count": 3,
   "id": "757ec778",
   "metadata": {},
   "outputs": [],
   "source": [
    "str_2 = \"machine learning\""
   ]
  },
  {
   "cell_type": "code",
   "execution_count": 4,
   "id": "32613bf6",
   "metadata": {},
   "outputs": [
    {
     "data": {
      "text/plain": [
       "str"
      ]
     },
     "execution_count": 4,
     "metadata": {},
     "output_type": "execute_result"
    }
   ],
   "source": [
    "type(str_2)"
   ]
  },
  {
   "cell_type": "code",
   "execution_count": 5,
   "id": "cca1476c",
   "metadata": {},
   "outputs": [],
   "source": [
    "str_11 = '''Simple Definition:Machine learning is \n",
    "an application of artificial intelligence (AI) that \n",
    "provides systems the ability to automatically learn and \n",
    "improve from experience without being explicitly programmed. \n",
    "Machine learning focuses on the development of computer programs\n",
    "that can access data and use it to learn for themselves.'''"
   ]
  },
  {
   "cell_type": "code",
   "execution_count": 6,
   "id": "7f9277d4",
   "metadata": {},
   "outputs": [
    {
     "data": {
      "text/plain": [
       "str"
      ]
     },
     "execution_count": 6,
     "metadata": {},
     "output_type": "execute_result"
    }
   ],
   "source": [
    "type(str_11)"
   ]
  },
  {
   "cell_type": "code",
   "execution_count": 7,
   "id": "df5b331d",
   "metadata": {},
   "outputs": [],
   "source": [
    "string_1 = \"\"\"Simple Definition:Machine learning is \n",
    "an application of artificial intelligence (AI) that \n",
    "provides systems the ability to automatically learn and \n",
    "improve from experience without being explicitly programmed. \n",
    "Machine learning focuses\n",
    "on the development of computer programs that can access data \n",
    "and use it to learn for themselves.\"\"\""
   ]
  },
  {
   "cell_type": "code",
   "execution_count": 16,
   "id": "7acf5322",
   "metadata": {},
   "outputs": [
    {
     "name": "stdout",
     "output_type": "stream",
     "text": [
      "Simple Definition:Machine learning is \n",
      "an application of artificial intelligence (AI) that \n",
      "provides systems the ability to automatically learn and \n",
      "improve from experience without being explicitly programmed. \n",
      "Machine learning focuses\n",
      "on the development of computer programs that can access data \n",
      "and use it to learn for themselves.\n"
     ]
    }
   ],
   "source": [
    "print(string_1)"
   ]
  },
  {
   "cell_type": "code",
   "execution_count": 8,
   "id": "ff7abd26",
   "metadata": {},
   "outputs": [
    {
     "data": {
      "text/plain": [
       "str"
      ]
     },
     "execution_count": 8,
     "metadata": {},
     "output_type": "execute_result"
    }
   ],
   "source": [
    "type(string_1)"
   ]
  },
  {
   "cell_type": "code",
   "execution_count": 9,
   "id": "ac9bb53f",
   "metadata": {},
   "outputs": [],
   "source": [
    "str_1 = '8745'"
   ]
  },
  {
   "cell_type": "code",
   "execution_count": 10,
   "id": "ebff21e4",
   "metadata": {},
   "outputs": [
    {
     "data": {
      "text/plain": [
       "str"
      ]
     },
     "execution_count": 10,
     "metadata": {},
     "output_type": "execute_result"
    }
   ],
   "source": [
    "type(str_1)"
   ]
  },
  {
   "cell_type": "code",
   "execution_count": 11,
   "id": "50b0ee25",
   "metadata": {},
   "outputs": [],
   "source": [
    "str_1 = '!#$%^&*'"
   ]
  },
  {
   "cell_type": "code",
   "execution_count": 12,
   "id": "518ae9e9",
   "metadata": {},
   "outputs": [
    {
     "data": {
      "text/plain": [
       "str"
      ]
     },
     "execution_count": 12,
     "metadata": {},
     "output_type": "execute_result"
    }
   ],
   "source": [
    "type(str_1)"
   ]
  },
  {
   "cell_type": "code",
   "execution_count": 13,
   "id": "549ad7d6",
   "metadata": {},
   "outputs": [],
   "source": [
    "str_1 = \"python          and       data science\""
   ]
  },
  {
   "cell_type": "code",
   "execution_count": 14,
   "id": "2a5e3b05",
   "metadata": {},
   "outputs": [
    {
     "data": {
      "text/plain": [
       "str"
      ]
     },
     "execution_count": 14,
     "metadata": {},
     "output_type": "execute_result"
    }
   ],
   "source": [
    "type(str_1)"
   ]
  },
  {
   "cell_type": "code",
   "execution_count": 15,
   "id": "631091a4",
   "metadata": {},
   "outputs": [
    {
     "name": "stdout",
     "output_type": "stream",
     "text": [
      "python          and       data science\n"
     ]
    }
   ],
   "source": [
    "print(str_1)"
   ]
  },
  {
   "cell_type": "code",
   "execution_count": 26,
   "id": "dfda7f52",
   "metadata": {
    "scrolled": true
   },
   "outputs": [
    {
     "ename": "SyntaxError",
     "evalue": "invalid syntax (<ipython-input-26-6938dd96d064>, line 1)",
     "output_type": "error",
     "traceback": [
      "\u001b[1;36m  File \u001b[1;32m\"<ipython-input-26-6938dd96d064>\"\u001b[1;36m, line \u001b[1;32m1\u001b[0m\n\u001b[1;33m    str_1 = 'python's class\u001b[0m\n\u001b[1;37m                    ^\u001b[0m\n\u001b[1;31mSyntaxError\u001b[0m\u001b[1;31m:\u001b[0m invalid syntax\n"
     ]
    }
   ],
   "source": [
    "str_1 = 'python's class"
   ]
  },
  {
   "cell_type": "code",
   "execution_count": 27,
   "id": "8e031805",
   "metadata": {},
   "outputs": [
    {
     "ename": "SyntaxError",
     "evalue": "invalid syntax (<ipython-input-27-e020ff39b472>, line 1)",
     "output_type": "error",
     "traceback": [
      "\u001b[1;36m  File \u001b[1;32m\"<ipython-input-27-e020ff39b472>\"\u001b[1;36m, line \u001b[1;32m1\u001b[0m\n\u001b[1;33m    str_1 = \"python\"s class\"\u001b[0m\n\u001b[1;37m                    ^\u001b[0m\n\u001b[1;31mSyntaxError\u001b[0m\u001b[1;31m:\u001b[0m invalid syntax\n"
     ]
    }
   ],
   "source": [
    "str_1 = \"python\"s class\""
   ]
  },
  {
   "cell_type": "code",
   "execution_count": 18,
   "id": "95838daa",
   "metadata": {},
   "outputs": [],
   "source": [
    "str_1 = \"python's class\""
   ]
  },
  {
   "cell_type": "code",
   "execution_count": 19,
   "id": "0e49b311",
   "metadata": {},
   "outputs": [
    {
     "name": "stdout",
     "output_type": "stream",
     "text": [
      "python's class\n"
     ]
    }
   ],
   "source": [
    "print(str_1)"
   ]
  },
  {
   "cell_type": "code",
   "execution_count": 20,
   "id": "de51dd12",
   "metadata": {},
   "outputs": [
    {
     "data": {
      "text/plain": [
       "str"
      ]
     },
     "execution_count": 20,
     "metadata": {},
     "output_type": "execute_result"
    }
   ],
   "source": [
    "type(str_1)"
   ]
  },
  {
   "cell_type": "markdown",
   "id": "eaa76b33",
   "metadata": {},
   "source": [
    "## How to find the length of string"
   ]
  },
  {
   "cell_type": "code",
   "execution_count": 21,
   "id": "62075e25",
   "metadata": {},
   "outputs": [
    {
     "name": "stdout",
     "output_type": "stream",
     "text": [
      "data science <class 'str'>\n"
     ]
    }
   ],
   "source": [
    "a = \"data science\"\n",
    "print(a, type(a))"
   ]
  },
  {
   "cell_type": "code",
   "execution_count": 22,
   "id": "92095b25",
   "metadata": {},
   "outputs": [
    {
     "data": {
      "text/plain": [
       "12"
      ]
     },
     "execution_count": 22,
     "metadata": {},
     "output_type": "execute_result"
    }
   ],
   "source": [
    "len(a)"
   ]
  },
  {
   "cell_type": "code",
   "execution_count": 23,
   "id": "d0521f1c",
   "metadata": {},
   "outputs": [
    {
     "data": {
      "text/plain": [
       "333"
      ]
     },
     "execution_count": 23,
     "metadata": {},
     "output_type": "execute_result"
    }
   ],
   "source": [
    "len(string_1)"
   ]
  },
  {
   "cell_type": "code",
   "execution_count": null,
   "id": "dab20d80",
   "metadata": {},
   "outputs": [],
   "source": []
  }
 ],
 "metadata": {
  "kernelspec": {
   "display_name": "Python 3",
   "language": "python",
   "name": "python3"
  },
  "language_info": {
   "codemirror_mode": {
    "name": "ipython",
    "version": 3
   },
   "file_extension": ".py",
   "mimetype": "text/x-python",
   "name": "python",
   "nbconvert_exporter": "python",
   "pygments_lexer": "ipython3",
   "version": "3.9.5"
  }
 },
 "nbformat": 4,
 "nbformat_minor": 5
}
